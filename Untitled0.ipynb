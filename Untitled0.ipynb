{
  "nbformat": 4,
  "nbformat_minor": 0,
  "metadata": {
    "colab": {
      "provenance": [],
      "toc_visible": true,
      "authorship_tag": "ABX9TyPNQS0Jdb+LhTzWOBovXn2t",
      "include_colab_link": true
    },
    "kernelspec": {
      "name": "python3",
      "display_name": "Python 3"
    },
    "language_info": {
      "name": "python"
    }
  },
  "cells": [
    {
      "cell_type": "markdown",
      "metadata": {
        "id": "view-in-github",
        "colab_type": "text"
      },
      "source": [
        "<a href=\"https://colab.research.google.com/github/andrikofajar/intent-classifier-app/blob/master/Untitled0.ipynb\" target=\"_parent\"><img src=\"https://colab.research.google.com/assets/colab-badge.svg\" alt=\"Open In Colab\"/></a>"
      ]
    },
    {
      "cell_type": "code",
      "execution_count": 1,
      "metadata": {
        "colab": {
          "base_uri": "https://localhost:8080/"
        },
        "id": "P_XUX5IKxqvr",
        "outputId": "442966d5-bf6a-4840-c22d-1b5237b94a67"
      },
      "outputs": [
        {
          "output_type": "stream",
          "name": "stdout",
          "text": [
            "--2023-05-23 13:23:05--  https://github.com/ayaazzara/intent-classifier-app.git\n",
            "Resolving github.com (github.com)... 192.30.255.113\n",
            "Connecting to github.com (github.com)|192.30.255.113|:443... connected.\n",
            "HTTP request sent, awaiting response... 301 Moved Permanently\n",
            "Location: https://github.com/ayaazzara/intent-classifier-app [following]\n",
            "--2023-05-23 13:23:05--  https://github.com/ayaazzara/intent-classifier-app\n",
            "Reusing existing connection to github.com:443.\n",
            "HTTP request sent, awaiting response... 200 OK\n",
            "Length: unspecified [text/html]\n",
            "Saving to: ‘intent-classifier-app.git’\n",
            "\n",
            "intent-classifier-a     [ <=>                ] 177.66K  --.-KB/s    in 0.02s   \n",
            "\n",
            "2023-05-23 13:23:05 (7.48 MB/s) - ‘intent-classifier-app.git’ saved [181921]\n",
            "\n"
          ]
        }
      ],
      "source": [
        "!wget https://github.com/ayaazzara/intent-classifier-app.git"
      ]
    },
    {
      "cell_type": "code",
      "source": [],
      "metadata": {
        "id": "jrjpTHNCx7ZZ"
      },
      "execution_count": null,
      "outputs": []
    }
  ]
}